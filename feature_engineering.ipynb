{
 "metadata": {
  "name": "",
  "signature": "sha256:7f1b54c8a587c9d8b44b74780e223009668069309f0299e5337db1a274437afb"
 },
 "nbformat": 3,
 "nbformat_minor": 0,
 "worksheets": [
  {
   "cells": [
    {
     "cell_type": "code",
     "collapsed": false,
     "input": [
      "import pandas as pd\n",
      "click = pd.read_csv(r'C:\\Users\\Mark simulation\\Downloads\\New folder\\yoochoose-clicks.dat',\n",
      "                    header=None, index_col=False, parse_dates=['TimeStamp'],\n",
      "                    names=['SesID', 'TimeStamp','ItemID','Category'],dtype={'Category':str,'ItemID':str,'SesID':str})\n",
      "buy = pd.read_csv(r'C:\\Users\\Mark simulation\\Downloads\\New folder\\yoochoose-buys.dat', \n",
      "                  header=None,index_col=False, parse_dates=['TimeStamp'],\n",
      "                  names=['SesID', 'TimeStamp', 'ItemID', 'Price', 'Quantity'],\n",
      "                  dtype={'Category':str,'ItemID':str,'SesID':str})\n",
      "test = pd.read_csv(r'C:\\Users\\Mark simulation\\Downloads\\New folder\\yoochoose-test.dat',\n",
      "                    header=None, index_col=False, parse_dates=['TimeStamp'],\n",
      "                    names=['SesID', 'TimeStamp','ItemID','Category'],dtype={'Category':str,'ItemID':str,'SesID':str})\n",
      "solution=pd.read_csv(r'C:\\Users\\Mark simulation\\Downloads\\New folder\\solution.dat',sep=';',\n",
      "                     header=None,names=['SesID','purchased_items'])\n",
      "solution=pd.concat([pd.Series(row['SesID'],row['purchased_items'].split(',')) for _, row in solution.iterrows()]).reset_index()\n",
      "solution.columns=['ItemID','SesID']"
     ],
     "language": "python",
     "metadata": {},
     "outputs": [],
     "prompt_number": 1
    },
    {
     "cell_type": "markdown",
     "metadata": {},
     "source": [
      "# resolving missing category"
     ]
    },
    {
     "cell_type": "code",
     "collapsed": false,
     "input": [
      "# replace missing category '0' by its most frequent category except '0'\n",
      "temp=click[click['Category']!='0'].groupby(['ItemID','Category'])['Category'].agg({'count':'count'})\n",
      "temp1 = temp.groupby(level=0).agg('idxmax')\n",
      "temp = temp.loc[temp1['count'].values]\n",
      "item_cat_pair=dict(temp.index)\n",
      "\n",
      "click['Category']=click['ItemID'].apply(lambda x:item_cat_pair.get(x,'0'))\n",
      "test['Category']=test['ItemID'].apply(lambda x:item_cat_pair.get(x,'0'))"
     ],
     "language": "python",
     "metadata": {},
     "outputs": [],
     "prompt_number": 2
    },
    {
     "cell_type": "markdown",
     "metadata": {},
     "source": [
      "# global statistics"
     ]
    },
    {
     "cell_type": "code",
     "collapsed": false,
     "input": [
      "#finding some global features\n",
      "buy_count_per_item=buy.groupby('ItemID').size().to_dict()\n",
      "click_count_per_item=click.groupby('ItemID').size().to_dict()\n",
      "average_click_count_per_item=mean(click_count_per_item.values())\n",
      "average_buy_count_per_item=mean(buy_count_per_item.values())\n",
      "average_buy_click_ratio_per_item= mean([1.0*click_count_per_item[i]/buy_count_per_item[i] if i in buy_count_per_item.keys() \\\n",
      "                                        else click_count_per_item[i] for i in click_count_per_item.keys()])\n",
      "average_click_count_per_session=mean(click[click['SesID'].isin(set(buy['SesID']))].groupby(['SesID']).size())\n",
      "item_price_dict=buy.groupby('ItemID').sum().apply(lambda x: 1.0*x['Price']/x['Quantity'] if x['Price']!=0 else 0, axis=1).to_dict()\n",
      "mean_price=1.0*sum(item_price_dict.values())/len([1 for i in item_price_dict.values() if i!=0])"
     ],
     "language": "python",
     "metadata": {},
     "outputs": [],
     "prompt_number": 3
    },
    {
     "cell_type": "markdown",
     "metadata": {},
     "source": [
      "# session feature extraction"
     ]
    },
    {
     "cell_type": "code",
     "collapsed": false,
     "input": [
      "def session_feature(x):\n",
      "    count_freq={}\n",
      "    for i in x['ItemID']:\n",
      "        count_freq[i]=count_freq.get(i,0)+1\n",
      "    count_cat_freq={}\n",
      "    for i in x['Category']:\n",
      "        count_cat_freq[i]=count_cat_freq.get(i,0)+1\n",
      "    above_average_buy_count=int(1.0*mean([buy_count_per_item.get(i,1) for i in set(x['ItemID'])]) \\\n",
      "                                >average_buy_count_per_item)\n",
      "    num_above_average_buy_count=sum(np.array([buy_count_per_item.get(i,1) for i in set(x['ItemID'])] \\\n",
      "                                             )>average_buy_count_per_item)\n",
      "    above_average_click_count=int(1.0*sum([click_count_per_item.get(i,1) for i in set(x['ItemID'])]) \\\n",
      "                                  >average_click_count_per_item)\n",
      "    num_above_average_click_count=sum(np.array([click_count_per_item.get(i,1) for i in set(x['ItemID'])] \\\n",
      "                                             )>average_click_count_per_item)\n",
      "    below_average_buy_click_ratio=int(mean([1.0*click_count_per_item[i]/buy_count_per_item[i] if i in buy_count_per_item.keys() \\\n",
      "                                            else click_count_per_item.get(i,1) for i in set(x['ItemID'])])< \\\n",
      "                                      average_buy_click_ratio_per_item)\n",
      "    num_below_average_buy_click_ratio=sum(np.array([1.0*click_count_per_item[i]/buy_count_per_item[i] if i in buy_count_per_item.keys() \\\n",
      "                                            else click_count_per_item.get(i,1) for i in set(x['ItemID'])])< \\\n",
      "                                      average_buy_click_ratio_per_item)\n",
      "    start_weekday=min(x['TimeStamp']).weekday()\n",
      "    start_hour=min(x['TimeStamp']).hour\n",
      "    start_day=min(x['TimeStamp']).day\n",
      "    start_month=min(x['TimeStamp']).month\n",
      "    view_duration=(max(x['TimeStamp'])-min(x['TimeStamp']))/ np.timedelta64(1,'s')\n",
      "    freq_cat=max(count_cat_freq.iteritems(),key=lambda x: x[1])[1]\n",
      "    number_items_viewed=len(set(x['ItemID']))\n",
      "    number_cats=len(set(x['Category']))\n",
      "    number_clicks=len(x['ItemID'])\n",
      "    larger_than_mean_clicks=int(number_clicks>average_click_count_per_session)\n",
      "    checked_morethan_2=max(count_freq.values())>2\n",
      "    checked_morethan_3=max(count_freq.values())>3\n",
      "    average_item_duration=1.0*view_duration/number_clicks\n",
      "    last_item_agree_first_item=int(sorted(zip(x['TimeStamp'],x['ItemID']),key=lambda x: x[0])[0][1] == \\\n",
      "                                   sorted(zip(x['TimeStamp'],x['ItemID']),key=lambda x: x[0])[-1][1])\n",
      "    result={'above_average_buy_count': above_average_buy_count,\n",
      "            'above_average_click_count':above_average_click_count,\n",
      "            'below_average_buy_click_ratio':below_average_buy_click_ratio,\n",
      "            'num_above_average_buy_count':num_above_average_buy_count,\n",
      "            'num_above_average_click_count':num_above_average_click_count,\n",
      "            'num_below_average_buy_click_ratio':num_below_average_buy_click_ratio,\n",
      "            'start_hour':start_hour,\n",
      "            'start_day':start_day,\n",
      "            'start_month':start_month,\n",
      "            'view_duration':view_duration,\n",
      "            'freq_cat':freq_cat,\n",
      "            'number_items_viewed':number_items_viewed,\n",
      "            'number_cats':number_cats,\n",
      "            'number_clicks':number_clicks,\n",
      "            'larger_than_mean_clicks':larger_than_mean_clicks,\n",
      "            'checked_morethan_2':checked_morethan_2,\n",
      "            'checked_morethan_3':checked_morethan_3,\n",
      "            'average_item_duration':average_item_duration,\n",
      "            'last_item_agree_first_item':last_item_agree_first_item}\n",
      "    return pd.Series(result)"
     ],
     "language": "python",
     "metadata": {},
     "outputs": [],
     "prompt_number": 7
    },
    {
     "cell_type": "code",
     "collapsed": false,
     "input": [
      "# save the session feature in the training data set\n",
      "click.groupby('SesID').apply(session_feature).reset_index() \\\n",
      ".to_csv(r'C:\\Users\\Mark simulation\\Downloads\\session_feature.csv',index=False)"
     ],
     "language": "python",
     "metadata": {},
     "outputs": [],
     "prompt_number": 125
    },
    {
     "cell_type": "code",
     "collapsed": false,
     "input": [
      "# save the session feature in the test data set\n",
      "test.groupby('SesID').apply(session_feature).reset_index() \\\n",
      ".to_csv(r'C:\\Users\\Mark simulation\\Downloads\\New folder\\test_session_feature.csv',index=False)"
     ],
     "language": "python",
     "metadata": {},
     "outputs": [],
     "prompt_number": 8
    },
    {
     "cell_type": "markdown",
     "metadata": {},
     "source": [
      "# item feature"
     ]
    },
    {
     "cell_type": "code",
     "collapsed": false,
     "input": [
      "def item_feature(x):\n",
      "    x.sort('TimeStamp',inplace=True)\n",
      "    item_count={}\n",
      "    for i in x['ItemID']:\n",
      "        item_count[i]=item_count.get(i,0)+1\n",
      "    cat_count={}\n",
      "    for i in x['Category']:\n",
      "        cat_count[i]=cat_count.get(i,0)+1\n",
      "    item_duration={}\n",
      "    cat_duration={}\n",
      "    total_duration=0\n",
      "    for (id,ts,cat), (id_next,ts_next,cat_next) in zip(zip(x['ItemID'][:-1],x['TimeStamp'][:-1],x['Category'][:-1]), \\\n",
      "                                                       zip(x['ItemID'][1:],x['TimeStamp'][1:],x['Category'][1:])):\n",
      "        if ts_next-ts> datetime.timedelta(hours=1):\n",
      "            duration=10\n",
      "        else:\n",
      "            duration=(ts_next-ts)/ np.timedelta64(1,'s')\n",
      "        item_duration[id]=item_duration.get(id,0)+duration\n",
      "        cat_duration[cat]=item_duration.get(id,0)+duration\n",
      "        total_duration+=duration\n",
      "    x['click_buy_ratio']=[1.0*click_count_per_item[i]/buy_count_per_item[i] if i in buy_count_per_item.keys() \\\n",
      "                                        else click_count_per_item.get(i,1) for i in x['ItemID']]\n",
      "    x['first_click']=[int(i==0) for i in range(len(x['ItemID']))]\n",
      "    x['last_click']=[int(i==len(x['ItemID'])-1) for i in range(len(x['ItemID']))]\n",
      "    x['price']=[item_price_dict.get(i,mean_price) for i in x['ItemID']]\n",
      "    x['hour']=[i.hour for i in x['TimeStamp']]\n",
      "    x['day']=[i.day for i in x['TimeStamp']]\n",
      "    x['month']=[i.month for i in x['TimeStamp']]\n",
      "    x['weekday']=[i.weekday() for i in x['TimeStamp']]\n",
      "    x['count']=[item_count[i] for i in x['ItemID']]\n",
      "    x['count_divide_click_buy_ratio']=1.0*np.array(x['count'])/np.array(x['click_buy_ratio'])\n",
      "    x['cat_count']=[cat_count[i] for i in x['Category']]\n",
      "    x['overall_click_count']=[click_count_per_item.get(i,1) for i in x['ItemID']]\n",
      "    x['overall_buy_count']=[buy_count_per_item.get(i,1) for i in x['ItemID']]\n",
      "    x.drop('TimeStamp',axis=1,inplace=True)\n",
      "    x['item_duration']=[1.0*item_duration.get(i,0)/(1e-8+total_duration) for i in x['ItemID']]\n",
      "    x['cat_duration']=[1.0*cat_duration.get(i,0)/(1e-8+total_duration) for i in x['Category']]\n",
      "    return x"
     ],
     "language": "python",
     "metadata": {},
     "outputs": [],
     "prompt_number": 4
    },
    {
     "cell_type": "code",
     "collapsed": false,
     "input": [
      "# save the item feature of the training data se\n",
      "click[click['SesID'].isin(unique(buy['SesID']))].groupby('SesID').apply(item_feature).drop_duplicates(['SesID','ItemID']). \\\n",
      "drop('SesID',axis=1).reset_index().drop('level_1',inplace=False,axis=1).\\\n",
      "to_csv(r'C:\\Users\\Mark simulation\\Downloads\\New folder\\buy_item_feature.csv',index=False)"
     ],
     "language": "python",
     "metadata": {},
     "outputs": [],
     "prompt_number": 23
    },
    {
     "cell_type": "code",
     "collapsed": false,
     "input": [
      "# save the item feature of the test data set\n",
      "test[test['SesID'].isin(np.array(unique(solution['SesID']),dtype=str))].groupby('SesID').apply(item_feature).drop_duplicates(['SesID','ItemID'])\\\n",
      ".reset_index().to_csv(r'C:\\Users\\Mark simulation\\Downloads\\New folder\\test_item_feature.csv',index=False)"
     ],
     "language": "python",
     "metadata": {},
     "outputs": [],
     "prompt_number": 5
    },
    {
     "cell_type": "code",
     "collapsed": false,
     "input": [],
     "language": "python",
     "metadata": {},
     "outputs": []
    }
   ],
   "metadata": {}
  }
 ]
}